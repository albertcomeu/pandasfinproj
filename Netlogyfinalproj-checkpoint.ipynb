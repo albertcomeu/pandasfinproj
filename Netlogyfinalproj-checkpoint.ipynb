{
 "cells": [
  {
   "cell_type": "code",
   "execution_count": null,
   "id": "354bb960-0ea1-4e09-a647-3dfc30aaa8ad",
   "metadata": {},
   "outputs": [],
   "source": [
    "import numpy as np\n",
    "import pandas as pd\n",
    "import matplotlib.pyplot as plt\n",
    "import seaborn as sns\n",
    "import scipy.stats as stats\n",
    "from sklearn.model_selection import train_test_split\n",
    "from sklearn.discriminant_analysis import LinearDiscriminantAnalysis\n",
    "from sklearn.metrics import accuracy_score"
   ]
  },
  {
   "cell_type": "code",
   "execution_count": null,
   "id": "8d645133-f1c0-4633-8058-0b3203cbc5ca",
   "metadata": {},
   "outputs": [],
   "source": [
    "def get_statistics(attributes):\n",
    "\n",
    "    statistics = {\n",
    "        'Среднее': attributes.mean(),\n",
    "        'Медиана': attributes.median(),\n",
    "        'Мода': attributes.mode().iloc[0],\n",
    "        'Минимум': attributes.min(),\n",
    "        'Максимум': attributes.max(),\n",
    "        'Среднее отклонение': attributes.std()\n",
    "    }\n",
    "\n",
    "    return statistics\n"
   ]
  },
  {
   "cell_type": "code",
   "execution_count": null,
   "id": "f2d90b1f-9284-4246-8473-5e8848d8046d",
   "metadata": {},
   "outputs": [],
   "source": [
    "def get_corr(attributes):\n",
    "    correlation_matrix = attributes.corr()\n",
    "\n",
    "    mask = np.triu(np.ones_like(correlation_matrix, dtype=bool))\n",
    "\n",
    "    most_correlated = correlation_matrix.unstack().sort_values(ascending=False)\n",
    "    most_correlated = most_correlated[most_correlated != 1]\n",
    "    most_correlated_pairs = [most_correlated.index[0], most_correlated.index[2]]\n",
    "\n",
    "    least_correlated_pairs = [most_correlated.index[-1], most_correlated.index[-3]]\n",
    "\n",
    "    plt.figure(figsize=(8, 6))\n",
    "    sns.heatmap(correlation_matrix, mask=mask, annot=True, cmap='coolwarm', fmt=\".2f\")\n",
    "    plt.title(\"Correlation Matrix Heatmap\")\n",
    "    plt.show()\n",
    "\n",
    "    print(\"Наиболее скоррелированные переменные:\")\n",
    "    print(most_correlated_pairs)\n",
    "\n",
    "    print(\"\\nНаименее скоррелированные переменные:\")\n",
    "    print(least_correlated_pairs)"
   ]
  },
  {
   "cell_type": "code",
   "execution_count": null,
   "id": "d95fb1a8-83c4-4770-9644-aa2eb55fdf39",
   "metadata": {},
   "outputs": [],
   "source": [
    "def get_workers_by_dep(workers):\n",
    "    current_workers = workers[workers['left'] == 0]\n",
    "\n",
    "    department_counts = current_workers.groupby('department').size().reset_index(name='employee_count')\n",
    "\n",
    "    return department_counts"
   ]
  },
  {
   "cell_type": "code",
   "execution_count": null,
   "id": "b0094e6a-3ec1-462f-ac43-09676021d55a",
   "metadata": {},
   "outputs": [],
   "source": [
    "def get_salary_graph(salary):\n",
    "    plt.figure(figsize=(8, 6))\n",
    "    sns.set(style=\"whitegrid\")\n",
    "    sns.countplot(x=salary, palette=\"Set3\")\n",
    "    plt.title(\"Распределение сотрудников по зарплатам\")\n",
    "    plt.xlabel(\"Зарплата\")\n",
    "    plt.ylabel(\"Количество сотрудников\")\n",
    "\n",
    "    plt.show()"
   ]
  },
  {
   "cell_type": "code",
   "execution_count": null,
   "id": "4968a01d-a93d-4988-9e0f-725c996e87e8",
   "metadata": {},
   "outputs": [],
   "source": [
    "def get_salary_graph_by_dep(attributes):\n",
    "    departments = attributes['department'].unique()\n",
    "\n",
    "    plt.figure(figsize=(16, 10))\n",
    "\n",
    "    num_departments = len(departments)\n",
    "    rows = (num_departments + 1) // 2\n",
    "\n",
    "    for i, department in enumerate(departments):\n",
    "        plt.subplot(rows, 2, i + 1)\n",
    "        department_data = attributes[attributes['department'] == department]\n",
    "        sns.countplot(data=department_data, x='salary', palette=\"Set2\")\n",
    "        plt.title(f\"Распределение зарплат в департаменте '{department}'\")\n",
    "        plt.xlabel(\"Зарплата\")\n",
    "        plt.ylabel(\"Количество сотрудников\")\n",
    "\n",
    "    plt.tight_layout()\n",
    "    plt.show()"
   ]
  },
  {
   "cell_type": "code",
   "execution_count": null,
   "id": "ac50db30-a95d-41a7-87ef-8569d1e875c1",
   "metadata": {},
   "outputs": [],
   "source": [
    "def check_hors_salary_hypothesis(attributes):\n",
    "    high_salary_group = attributes[attributes['salary'] == 'high']['average_montly_hours']\n",
    "    low_salary_group = attributes[attributes['salary'] == 'low']['average_montly_hours']\n",
    "\n",
    "    t_statistic, p_value = stats.ttest_ind(high_salary_group, low_salary_group)\n",
    "\n",
    "    alpha = 0.05\n",
    "\n",
    "    if p_value < alpha:\n",
    "        return \"Гипотеза не отвергается: сотрудники с высоким зп проводят на работе больше времени.\"\n",
    "    else:\n",
    "        return \"Гипотеза отвергается: нет значимой разницы между зп и времени проведенным на работе.\"\n"
   ]
  },
  {
   "cell_type": "code",
   "execution_count": null,
   "id": "fd95cf61-4ffa-4c37-a2e8-4678bc8214a9",
   "metadata": {},
   "outputs": [],
   "source": [
    "def get_left_no_left_stat(attributes):\n",
    "    left = attributes[attributes['left'] == 1]\n",
    "    not_left = attributes[attributes['left'] == 0]\n",
    "\n",
    "    left_promotion_rate = round(left['promotion_last_5years'].mean(), 3) * 100\n",
    "    left_avg_satisfaction = round(left['satisfaction_level'].mean(), 3) * 100\n",
    "    left_avg_projects = round(left['number_project'].mean())\n",
    "\n",
    "    not_left_promotion_rate = round(not_left['promotion_last_5years'].mean(), 3) * 100\n",
    "    not_left_avg_satisfaction = round(not_left['satisfaction_level'].mean(), 3) * 100\n",
    "    not_left_avg_projects = round(not_left['number_project'].mean())\n",
    "\n",
    "    print(\"Доля сотрудников с повышением за последние 5 лет (уволившиеся):\", left_promotion_rate)\n",
    "    print(\"Средняя степень удовлетворенности (уволившиеся):\", left_avg_satisfaction)\n",
    "    print(\"Среднее количество проектов (уволившиеся):\", left_avg_projects)\n",
    "    print(\"\\nДоля сотрудников с повышением за последние 5 лет (не уволившиеся):\", not_left_promotion_rate)\n",
    "    print(\"Средняя степень удовлетворенности (не уволившиеся):\", not_left_avg_satisfaction)\n",
    "    print(\"Среднее количество проектов (не уволившиеся):\", not_left_avg_projects)"
   ]
  },
  {
   "cell_type": "code",
   "execution_count": null,
   "id": "c0caa760-ad8b-41fc-9ba6-e87dc5551ef3",
   "metadata": {},
   "outputs": [],
   "source": [
    "def left_or_no_model(workers):\n",
    "    X = workers.drop(['department', 'salary', 'left'], axis=1)\n",
    "    y = workers['left']\n",
    "\n",
    "    X_train, X_test, y_train, y_test = train_test_split(X, y, test_size=0.2, random_state=42)\n",
    "\n",
    "    lda = LinearDiscriminantAnalysis()\n",
    "    lda.fit(X_train, y_train)\n",
    "\n",
    "    y_pred = lda.predict(X_test)\n",
    "\n",
    "    accuracy = accuracy_score(y_test, y_pred)\n",
    "    print(f\"Accuracy модели на тестовой выборке: {round(accuracy, 2) * 100}%\")"
   ]
  }
 ],
 "metadata": {
  "kernelspec": {
   "display_name": "Python 3 (ipykernel)",
   "language": "python",
   "name": "python3"
  },
  "language_info": {
   "codemirror_mode": {
    "name": "ipython",
    "version": 3
   },
   "file_extension": ".py",
   "mimetype": "text/x-python",
   "name": "python",
   "nbconvert_exporter": "python",
   "pygments_lexer": "ipython3",
   "version": "3.10.4"
  }
 },
 "nbformat": 4,
 "nbformat_minor": 5
}
